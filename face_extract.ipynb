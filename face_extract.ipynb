{
 "cells": [
  {
   "cell_type": "code",
   "execution_count": 6,
   "id": "6e86e9b7",
   "metadata": {},
   "outputs": [],
   "source": [
    "import import_ipynb\n",
    "from FaceDetector import FaceDetector\n",
    "import os"
   ]
  },
  {
   "cell_type": "code",
   "execution_count": 7,
   "id": "a26e1005",
   "metadata": {},
   "outputs": [],
   "source": [
    "face_cascade_paths = [\n",
    "    os.path.join(os.curdir, 'libs', 'opencv', 'data', 'haarcascades', 'haarcascade_frontalface_default.xml'),\n",
    "    os.path.join(os.curdir, 'libs', 'opencv', 'data', 'haarcascades', 'haarcascade_profileface.xml'),\n",
    "]"
   ]
  },
  {
   "cell_type": "code",
   "execution_count": 8,
   "id": "c842087f",
   "metadata": {},
   "outputs": [
    {
     "name": "stdout",
     "output_type": "stream",
     "text": [
      "haarcascade_frontalface_default 을 불러왔습니다.\n",
      "haarcascade_profileface 을 불러왔습니다.\n"
     ]
    }
   ],
   "source": [
    "face_detector = FaceDetector(face_cascade_paths)"
   ]
  },
  {
   "cell_type": "code",
   "execution_count": null,
   "id": "5bc470ae",
   "metadata": {},
   "outputs": [],
   "source": []
  }
 ],
 "metadata": {
  "kernelspec": {
   "display_name": "Python 3 (ipykernel)",
   "language": "python",
   "name": "python3"
  },
  "language_info": {
   "codemirror_mode": {
    "name": "ipython",
    "version": 3
   },
   "file_extension": ".py",
   "mimetype": "text/x-python",
   "name": "python",
   "nbconvert_exporter": "python",
   "pygments_lexer": "ipython3",
   "version": "3.9.7"
  }
 },
 "nbformat": 4,
 "nbformat_minor": 5
}
