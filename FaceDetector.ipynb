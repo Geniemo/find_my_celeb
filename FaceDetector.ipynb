{
 "cells": [
  {
   "cell_type": "code",
   "execution_count": 1,
   "id": "ee4f4404",
   "metadata": {},
   "outputs": [],
   "source": [
    "import cv2 as cv\n",
    "import sys\n",
    "import os\n",
    "import matplotlib.pyplot as plt"
   ]
  },
  {
   "cell_type": "code",
   "execution_count": 2,
   "id": "5edec9e8",
   "metadata": {},
   "outputs": [],
   "source": [
    "class FaceDetector():\n",
    "    def __init__(self, face_cascade_paths):\n",
    "        self.face_cascades = []\n",
    "        self.face_cascades_names = []\n",
    "        for face_cascade_path in face_cascade_paths:\n",
    "            self.face_cascades.append(cv.CascadeClassifier())\n",
    "            if not self.face_cascades[-1].load(cv.samples.findFile(face_cascade_path)):\n",
    "                print(f'*** {face_cascade_path}를 불러올 수 없습니다.')\n",
    "                exit(0)\n",
    "            self.face_cascades_names.append(face_cascade_path[face_cascade_path.rfind('\\\\') + 1:face_cascade_path.find('.xml')])\n",
    "            print(f'{self.face_cascades_names[-1]}을 불러왔습니다.')\n",
    "    \n",
    "    def detect(self, image, path=None):\n",
    "        # 얼굴 이미지를 흑백으로 바꾸고 조명이 알맞은 상태로 변경\n",
    "        image_gray = cv.cvtColor(image, cv.COLOR_BGR2GRAY)\n",
    "        image_gray = cv.equalizeHist(image_gray)\n",
    "        \n",
    "        if path != None:\n",
    "            if not os.path.isdir(path):\n",
    "                os.mkdir(path)\n",
    "        \n",
    "        i = 0\n",
    "        for face_cascade in self.face_cascades:\n",
    "            faces = face_cascade.detectMultiScale(image_gray)\n",
    "            j = 0\n",
    "            if path != None:\n",
    "                if not os.path.isdir(os.path.join(path, self.face_cascades_names[i])):\n",
    "                    os.mkdir(os.path.join(path, self.face_cascades_names[i]))\n",
    "\n",
    "                for (x, y, w, h) in faces:\n",
    "                    face_image = image[y:y + h, x:x + w]\n",
    "                    cv.imwrite(os.path.join(path, self.face_cascades_names[i], f'face_image_{j}.png'), face_image)\n",
    "                    j += 1\n",
    "            i += 1"
   ]
  },
  {
   "cell_type": "code",
   "execution_count": 3,
   "id": "948c434a",
   "metadata": {},
   "outputs": [],
   "source": [
    "face_cascade_paths = [\n",
    "    os.path.join(os.curdir, 'libs', 'opencv', 'data', 'haarcascades', 'haarcascade_frontalface_default.xml'),\n",
    "    os.path.join(os.curdir, 'libs', 'opencv', 'data', 'haarcascades', 'haarcascade_profileface.xml'),\n",
    "]"
   ]
  }
 ],
 "metadata": {
  "kernelspec": {
   "display_name": "Python 3 (ipykernel)",
   "language": "python",
   "name": "python3"
  },
  "language_info": {
   "codemirror_mode": {
    "name": "ipython",
    "version": 3
   },
   "file_extension": ".py",
   "mimetype": "text/x-python",
   "name": "python",
   "nbconvert_exporter": "python",
   "pygments_lexer": "ipython3",
   "version": "3.9.7"
  }
 },
 "nbformat": 4,
 "nbformat_minor": 5
}
